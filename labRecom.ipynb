{
 "cells": [
  {
   "cell_type": "code",
   "execution_count": 210,
   "metadata": {
    "collapsed": false
   },
   "outputs": [],
   "source": [
    "import numpy as np\n",
    "from numpy import nan\n",
    "import pandas as pd"
   ]
  },
  {
   "cell_type": "code",
   "execution_count": 40,
   "metadata": {
    "collapsed": false
   },
   "outputs": [],
   "source": [
    "def loadData():\n",
    "    data = np.genfromtxt('small-dataset.csv', delimiter=',',dtype=None)\n",
    "    dt = np.zeros([data.shape[0],len(data[0])-1])\n",
    "    for i in range(0,data.shape[0]):\n",
    "        temp = list(data[i])\n",
    "        dt[i, :] = temp[1:]\n",
    "    print(dt)\n",
    "    return dt"
   ]
  },
  {
   "cell_type": "code",
   "execution_count": 227,
   "metadata": {
    "collapsed": false
   },
   "outputs": [
    {
     "name": "stdout",
     "output_type": "stream",
     "text": [
      "[[ 7.  6.  7.  4.  5.  4.]\n",
      " [ 6.  7.  0.  4.  3.  4.]\n",
      " [ 0.  3.  3.  1.  1.  0.]\n",
      " [ 1.  2.  2.  3.  3.  4.]\n",
      " [ 1.  0.  1.  2.  3.  3.]]\n"
     ]
    }
   ],
   "source": [
    "data = loadData()"
   ]
  },
  {
   "cell_type": "code",
   "execution_count": 221,
   "metadata": {
    "collapsed": false
   },
   "outputs": [],
   "source": [
    "def user_sim_cosine_sim(person1, person2):\n",
    "    idx1  = np.where(person1!=0)\n",
    "    idx2  = np.where(person2!=0)\n",
    "    idxs=list(set(idx1[0]) & set(idx2[0]))\n",
    "    A = np.dot(person1[idxs], person2[idxs])\n",
    "    B  = np.linalg.norm(person1[idxs]) * np.linalg.norm(person2[idxs])\n",
    "    cos_dist = A/B\n",
    "    if np.isnan(cos_dist):\n",
    "        return 0\n",
    "    else:\n",
    "        return cos_dist"
   ]
  },
  {
   "cell_type": "code",
   "execution_count": 76,
   "metadata": {
    "collapsed": false
   },
   "outputs": [
    {
     "data": {
      "text/plain": [
       "0.64465837122030423"
      ]
     },
     "execution_count": 76,
     "metadata": {},
     "output_type": "execute_result"
    }
   ],
   "source": [
    "#cosiine between user2 and user4\n",
    "user_sim_cosine_sim(data[2, :], data[4,:])"
   ]
  },
  {
   "cell_type": "code",
   "execution_count": 220,
   "metadata": {
    "collapsed": true
   },
   "outputs": [],
   "source": [
    "def user_sim_pearson_corr(person1, person2):\n",
    "    m1 = np.mean(person1[person1!=0])\n",
    "    m2 = np.mean(person2[person2!=0])\n",
    "    idx1  = np.where(person1!=0)\n",
    "    idx2  = np.where(person2!=0)\n",
    "    idxs=list(set(idx1[0]) & set(idx2[0]))\n",
    "    n1 = person1[idxs]-m1\n",
    "    n2 = person2[idxs]-m2\n",
    "    A = np.dot(n1, n2)\n",
    "    B  = np.linalg.norm(n1) * np.linalg.norm(n2)\n",
    "    corr = A/B\n",
    "    #print(corr)\n",
    "    if np.isnan(corr):\n",
    "        #print('hey')\n",
    "        return 0\n",
    "    else:\n",
    "        return corr"
   ]
  },
  {
   "cell_type": "code",
   "execution_count": 228,
   "metadata": {
    "collapsed": false
   },
   "outputs": [
    {
     "data": {
      "text/plain": [
       "0.89442719099991586"
      ]
     },
     "execution_count": 228,
     "metadata": {},
     "output_type": "execute_result"
    }
   ],
   "source": [
    "#correlation between user0 and user2\n",
    "user_sim_pearson_corr(data[0, :], data[2, :])"
   ]
  },
  {
   "cell_type": "code",
   "execution_count": 223,
   "metadata": {
    "collapsed": false
   },
   "outputs": [],
   "source": [
    "def most_similar_users(person, db, number_of_users):\n",
    "    similarities  = []\n",
    "    for i in range(0, db.shape[0]):\n",
    "        cos = user_sim_cosine_sim(db[person, :], db[i,:])\n",
    "        cor = user_sim_pearson_corr(db[person, :], db[i, :])\n",
    "        similarities.append((cos+cor)/2)\n",
    "    similarities = np.array(similarities)\n",
    "    sorts = np.argsort(similarities)\n",
    "    sorts = list(sorts)[::-1]\n",
    "    msu = sorts.remove(person)\n",
    "    msu = sorts[:number_of_users]\n",
    "    return msu"
   ]
  },
  {
   "cell_type": "code",
   "execution_count": 229,
   "metadata": {
    "collapsed": false
   },
   "outputs": [
    {
     "data": {
      "text/plain": [
       "[2, 0, 3]"
      ]
     },
     "execution_count": 229,
     "metadata": {},
     "output_type": "execute_result"
    }
   ],
   "source": [
    "#3 most similar users with 1\n",
    "most_similar_users(1, data, 3)"
   ]
  },
  {
   "cell_type": "code",
   "execution_count": 230,
   "metadata": {
    "collapsed": false
   },
   "outputs": [],
   "source": [
    "#added threshold (if estimated rating is better than this threshold, then recommend it)\n",
    "\n",
    "def user_recommendations(person, db, thres):\n",
    "    msu = most_similar_users(person, db, 2)\n",
    "    #print(msu)\n",
    "    prob_it = np.where(db[person, :]==0)\n",
    "    items = []\n",
    "    if len(prob_it[0])!=0:\n",
    "        for i in prob_it[0]:\n",
    "            if (db[msu[0], i]==0) or (db[msu[1], i]==0):\n",
    "                continue\n",
    "            else:\n",
    "                temp = (db[msu[0], i]*user_sim_pearson_corr(db[msu[0], :], db[person, :])+\\\n",
    "                            db[msu[1], i]*user_sim_pearson_corr(db[msu[1], :], db[person, :]))/\\\n",
    "                    (user_sim_pearson_corr(db[msu[0], :], db[person, :])+\\\n",
    "                     user_sim_pearson_corr(db[msu[1], :], db[person, :]))\n",
    "                #print(user_sim_pearson_corr(db[msu[0], :], db[person, :]))\n",
    "                #print(user_sim_pearson_corr(db[msu[1], :], db[person, :]))\n",
    "                      \n",
    "                if temp>=thres:\n",
    "                    items.append(i)\n",
    "    return items"
   ]
  },
  {
   "cell_type": "code",
   "execution_count": 231,
   "metadata": {
    "collapsed": false
   },
   "outputs": [
    {
     "data": {
      "text/plain": [
       "[2]"
      ]
     },
     "execution_count": 231,
     "metadata": {},
     "output_type": "execute_result"
    }
   ],
   "source": [
    "#recommend to user1 something with threshold 4\n",
    "user_recommendations(1, data, 4)"
   ]
  },
  {
   "cell_type": "code",
   "execution_count": 139,
   "metadata": {
    "collapsed": true
   },
   "outputs": [],
   "source": [
    "#normal dataset"
   ]
  },
  {
   "cell_type": "code",
   "execution_count": 232,
   "metadata": {
    "collapsed": true
   },
   "outputs": [],
   "source": [
    "#reading, processing\n",
    "df=pd.read_csv(\"C:\\\\Users\\\\Rita\\\\Documents\\\\ml-latest-small\\\\ratings.csv\")\n",
    "df.drop('timestamp', axis = 1, inplace = True)"
   ]
  },
  {
   "cell_type": "code",
   "execution_count": 175,
   "metadata": {
    "collapsed": false
   },
   "outputs": [
    {
     "data": {
      "text/plain": [
       "userId       561.0\n",
       "movieId    35836.0\n",
       "rating         4.5\n",
       "Name: 82388, dtype: float64"
      ]
     },
     "execution_count": 175,
     "metadata": {},
     "output_type": "execute_result"
    }
   ],
   "source": [
    "df.head()\n",
    "df.iloc[82388]"
   ]
  },
  {
   "cell_type": "code",
   "execution_count": 180,
   "metadata": {
    "collapsed": true
   },
   "outputs": [],
   "source": [
    "#making the data suitable\n",
    "\n",
    "def preprocessing(df):\n",
    "    sh0 = len(pd.unique(df['userId']))\n",
    "    print(sh0)\n",
    "    sh1 = df['movieId'].max(axis=0)\n",
    "    print(sh1)\n",
    "    db = np.zeros([sh0, sh1])\n",
    "    for i in df.values:\n",
    "        #print(i)\n",
    "        db[i[0]-1, i[1]-1] = i[2]\n",
    "    return db"
   ]
  },
  {
   "cell_type": "code",
   "execution_count": 184,
   "metadata": {
    "collapsed": false
   },
   "outputs": [
    {
     "name": "stdout",
     "output_type": "stream",
     "text": [
      "671\n",
      "163949\n"
     ]
    },
    {
     "name": "stderr",
     "output_type": "stream",
     "text": [
      "C:\\Users\\Rita\\Anaconda3\\lib\\site-packages\\ipykernel\\__main__.py:9: VisibleDeprecationWarning: using a non-integer number instead of an integer will result in an error in the future\n"
     ]
    }
   ],
   "source": [
    "#create database\n",
    "db = preprocessing(df)"
   ]
  },
  {
   "cell_type": "code",
   "execution_count": 226,
   "metadata": {
    "collapsed": false
   },
   "outputs": [
    {
     "data": {
      "text/plain": [
       "[933]"
      ]
     },
     "execution_count": 226,
     "metadata": {},
     "output_type": "execute_result"
    }
   ],
   "source": [
    "#recommend to user0 something\n",
    "\n",
    "user_recommendations(0, db, 2)"
   ]
  },
  {
   "cell_type": "code",
   "execution_count": null,
   "metadata": {
    "collapsed": true
   },
   "outputs": [],
   "source": []
  }
 ],
 "metadata": {
  "kernelspec": {
   "display_name": "Python [default]",
   "language": "python",
   "name": "python3"
  },
  "language_info": {
   "codemirror_mode": {
    "name": "ipython",
    "version": 3
   },
   "file_extension": ".py",
   "mimetype": "text/x-python",
   "name": "python",
   "nbconvert_exporter": "python",
   "pygments_lexer": "ipython3",
   "version": "3.5.2"
  }
 },
 "nbformat": 4,
 "nbformat_minor": 1
}
