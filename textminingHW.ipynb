{
 "cells": [
  {
   "cell_type": "code",
   "execution_count": 174,
   "metadata": {
    "collapsed": true
   },
   "outputs": [],
   "source": [
    "import nltk\n",
    "from nltk.stem.porter import PorterStemmer\n",
    "from nltk.corpus import stopwords\n",
    "from nltk.stem import WordNetLemmatizer\n",
    "from nltk.sentiment.util import *\n",
    "from nltk.sentiment import SentimentIntensityAnalyzer\n",
    "from string import punctuation\n",
    "from collections import Counter\n",
    "from nltk.corpus import brown\n",
    "import wikipedia\n",
    "import pickle"
   ]
  },
  {
   "cell_type": "code",
   "execution_count": 38,
   "metadata": {
    "collapsed": false
   },
   "outputs": [],
   "source": [
    "#reading the text\n",
    "\n",
    "text = None\n",
    "with open('C:\\\\Users\\\\Rita\\\\Documents\\\\tech.txt', 'r') as f:\n",
    "    text = f.read()"
   ]
  },
  {
   "cell_type": "code",
   "execution_count": 85,
   "metadata": {
    "collapsed": false
   },
   "outputs": [],
   "source": [
    "#ne_chunk entities\n",
    "#entity recognition\n",
    "\n",
    "tokens_1 = nltk.word_tokenize(text)\n",
    "tagged_1 = nltk.pos_tag(tokens_1)\n",
    " \n",
    "ne_chunked_orig = nltk.ne_chunk(tagged_1, binary=False)\n",
    "ne_chunked_bin = nltk.ne_chunk(tagged_1, binary=True)"
   ]
  },
  {
   "cell_type": "code",
   "execution_count": 176,
   "metadata": {
    "collapsed": true
   },
   "outputs": [],
   "source": [
    "#func for counting\n",
    "\n",
    "def tokenCounts(tokens):\n",
    "    counts = Counter(tokens)\n",
    "    sortedCounts = sorted(counts.items(), key=lambda count:count[1], reverse=True)\n",
    "    return sortedCounts"
   ]
  },
  {
   "cell_type": "code",
   "execution_count": 177,
   "metadata": {
    "collapsed": false
   },
   "outputs": [
    {
     "name": "stdout",
     "output_type": "stream",
     "text": [
      "[((',', ','), 693), (('the', 'DT'), 627), (('.', '.'), 549), (('to', 'TO'), 332), (('a', 'DT'), 285), (('of', 'IN'), 273), (('and', 'CC'), 264), (('in', 'IN'), 177), (('for', 'IN'), 132)]\n"
     ]
    }
   ],
   "source": [
    "#top-10 tokens after pos-tagging\n",
    "\n",
    "t10_pos=tokenCounts(tagged_1)\n",
    "t10_pos=t10_pos[:9]\n",
    "\n",
    "print(t10_pos)"
   ]
  },
  {
   "cell_type": "code",
   "execution_count": 86,
   "metadata": {
    "collapsed": true
   },
   "outputs": [],
   "source": [
    "#entity recognition\n",
    "\n",
    "def extractEntities(ne_chunked):\n",
    "    data = {}\n",
    "    for entity in ne_chunked:\n",
    "        if isinstance(entity, nltk.tree.Tree):\n",
    "            text = \" \".join([word for word, tag in entity.leaves()])\n",
    "            ent = entity.label()\n",
    "            data[text] = ent\n",
    "        else:\n",
    "            continue\n",
    "    return data"
   ]
  },
  {
   "cell_type": "code",
   "execution_count": 87,
   "metadata": {
    "collapsed": false
   },
   "outputs": [],
   "source": [
    "#entities\n",
    "\n",
    "entities_orig=extractEntities(ne_chunked_orig)\n",
    "entities_bin=extractEntities(ne_chunked_bin)\n"
   ]
  },
  {
   "cell_type": "code",
   "execution_count": 179,
   "metadata": {
    "collapsed": false
   },
   "outputs": [
    {
     "name": "stdout",
     "output_type": "stream",
     "text": [
      "{'Nanoleaf Aurora': 'NE', 'Solar Pool Technologies': 'NE', 'Alexas': 'NE', 'Tearline': 'NE', 'Alexandre Taliercio': 'NE', 'Joe Biden': 'NE', 'Localization Book': 'NE', 'Friedman': 'NE', 'Brexit': 'NE', 'Mastodon': 'NE', 'Verge': 'NE', 'British': 'NE', 'Japanese': 'NE', 'Hajek': 'NE', 'Google Glass': 'NE', 'Model': 'NE', 'Shatner': 'NE', 'HTC Vive': 'NE', 'National Network': 'NE', 'Nvidia': 'NE', 'GIFs': 'NE', 'Oculus': 'NE', 'Play Music': 'NE', 'Schiller': 'NE', 'Las Vegas': 'NE', 'Bill Gates': 'NE', 'Oculus Rift': 'NE', 'South Korea': 'NE', 'Alexandra Fine': 'NE', 'Messenger': 'NE', 'Patricia Lauder': 'NE', 'IoT': 'NE', 'Access': 'NE', 'NES Classic Edition': 'NE', 'Google Play Music All Access': 'NE', 'Guardian': 'NE', 'Touch': 'NE', 'Mac Mini': 'NE', 'Houston': 'NE', 'Helio X20': 'NE', 'James': 'NE', 'Fido': 'NE', 'Canada': 'NE', 'Virtual Sexology': 'NE', 'Bolt EV': 'NE', 'Congress': 'NE', 'Future': 'NE', 'Joe Quirk': 'NE', 'Gear VR': 'NE', 'Indians': 'NE', 'PlayStation VR': 'NE', 'Daimler': 'NE', 'Denis Grisak': 'NE', 'Steve Jobs': 'NE', 'Hyundai Motor Group Ford': 'NE', 'Xiaomi Mi Mix': 'NE', 'John Nay': 'NE', 'Fitbit Charge HR': 'NE', 'Garadget': 'NE', 'Oosterman': 'NE', 'Pacific': 'NE', 'Gaana': 'NE', 'Oculus Story Studio': 'NE', 'Sweden': 'NE', 'Amaroq': 'NE', 'вЂњYeah': 'NE', 'New Zealand': 'NE', 'Nanoleaf': 'NE', 'Society': 'NE', 'Facebook': 'NE', 'RFID': 'NE', 'Atlanta Gastroenterology Associates Kimberly': 'NE', 'McMullen': 'NE', 'Rhode Island': 'NE', 'Sick': 'NE', 'Rewind': 'NE', 'Google Play Music': 'NE', 'French Polynesia': 'NE', 'Matt McMullen': 'NE', 'CEO Dennon Oosterman': 'NE', 'Amazon Echo': 'NE', 'Elon': 'NE', 'Stephanie Alys': 'NE', 'Myriad': 'NE', 'Milton Friedman': 'NE', 'William Shatner': 'NE', 'BaDoink VR': 'NE', 'Hyperloop Technologies': 'NE', 'Runny Ron': 'NE', 'Chevrolet': 'NE', 'Mark Zuckerberg': 'NE', 'Martin Hajek': 'NE', 'Gothenburg': 'NE', 'Connecticut': 'NE', 'Chinese': 'NE', 'Korea': 'NE', 'Nintendo': 'NE', 'Dubai': 'NE', 'United States': 'NE', 'Palmer Luckey': 'NE', 'Left': 'NE', 'California': 'NE', 'Tesla': 'NE', 'PACCAR': 'NE', 'Trudeau': 'NE', 'Westworld': 'NE', 'Clogged Chris': 'NE', 'Canada Student Grants': 'NE', 'Apple Music': 'NE', 'German': 'NE', 'Justin Trudeau': 'NE', 'вЂњThese': 'NE', 'Washington': 'NE', 'Global Safety': 'NE', 'Zuckerberg': 'NE', 'Tahitian': 'NE', 'Canadian': 'NE', 'Android': 'NE', 'Rift': 'NE', 'Musk': 'NE', 'Australian': 'NE', 'Mindshare': 'NE', 'CTO': 'NE', 'Huawei': 'NE', 'Robert Martin': 'NE', 'RAW': 'NE', 'Xiaomi Mi': 'NE', 'Alcatel Flash': 'NE', 'Alphabet': 'NE', 'вЂќ': 'NE', 'Avatars': 'NE', 'U.S.': 'NE', 'вЂќ Chu': 'NE', 'Silicon Valley': 'NE', 'SpaceX': 'NE', 'CIC': 'NE', 'Brisbane': 'NE', 'Hyperloop': 'NE', 'momentвЂќ': 'NE', 'Florida': 'NE', 'English': 'NE', 'Boston': 'NE', 'Google Home': 'NE', 'Computer Bild': 'NE', 'Tahiti': 'NE', 'OTA': 'NE', 'Waymo': 'NE', 'iOS': 'NE', 'Alcatel': 'NE', 'Ford': 'NE', 'Play Music Unlimited Access': 'NE', 'PayPal': 'NE', 'RealDoll': 'NE', 'Sundance': 'NE', 'Argo AI': 'NE', 'NGA': 'NE', 'India': 'NE', 'Google Drive': 'NE', 'Hernando Chaves': 'NE', 'Medium': 'NE', 'Android Headlines': 'NE', 'Synergy Pharmaceuticals': 'NE', 'Poop Troop': 'NE', 'Institute': 'NE', 'Nevada': 'NE', 'Henry': 'NE', 'VR': 'NE', 'Orlando': 'NE', 'China': 'NE', 'Liberate Humanity': 'NE', 'Github': 'NE', 'Elon Musk': 'NE', 'Patri Friedman': 'NE', 'Volkswagen Group': 'NE', 'IDEO': 'NE', 'AI': 'NE', 'FCC': 'NE', 'Poop Troop Emoji Keyboard': 'NE', 'Hyperloop One Global': 'NE', 'Australia': 'NE', 'Cindy Gallop': 'NE', 'Donald Trump': 'NE', 'Martin': 'NE', 'Blake': 'NE', 'Dame Products': 'NE', 'Paul Sim': 'NE', 'CTO Brogan BamBrogran': 'NE', 'Grisak': 'NE', 'iPhone': 'NE', 'Robo Recall': 'NE', 'Intel': 'NE', 'Portland': 'NE', 'Xiaomi': 'NE', 'Ars Technica': 'NE', 'Employment Insurance': 'NE', 'HoloLens': 'NE', 'iMac': 'NE', 'Wii': 'NE', 'Hyperloop One': 'NE', 'Mini': 'NE', 'Revenge Porn Helpline': 'NE', 'Hollywood': 'NE', 'WilliamShatner': 'NE', 'CEO': 'NE', 'Sex': 'NE', 'TechCrunch': 'NE', 'Mac': 'NE', 'Social Research': 'NE', 'Poor': 'NE', 'Cole': 'NE', 'Galaxy S8': 'NE', 'Porn': 'NE', 'Apple Senior': 'NE', 'Einride': 'NE', 'Wynk Music': 'NE', 'Flash': 'NE', 'Tesla Model': 'NE', 'Korean': 'NE', 'CNN': 'NE', 'Oculus Touch': 'NE', 'French': 'NE', 'Ashley Blake': 'NE', 'вЂњYou': 'NE', 'MonoLens': 'NE', 'French Polynesian': 'NE', 'Gear': 'NE', 'Randolph Hencken': 'NE', 'Amazon': 'NE', 'Thurlow': 'NE', 'Luckey': 'NE', 'Adam Thurlow': 'NE', 'Bosch': 'NE', 'Miami': 'NE', 'Worldwide Marketing Phil Schiller': 'NE', 'Massachusetts': 'NE', 'Skills Plan': 'NE', 'Center': 'NE', 'Cheyenne': 'NE', 'Famicom': 'NE', 'Model S': 'NE', 'Wikipedia': 'NE', 'Make Love': 'NE', 'Oppo': 'NE', 'Volkswagen': 'NE', 'United Arab Emirates': 'NE', 'Community Operations': 'NE', 'End Domestic Violence': 'NE', 'Microsoft': 'NE', 'Mystery Vibe': 'NE', 'United States Marine Corps': 'NE', 'TENAA': 'NE', 'Which': 'NE', 'Seattle': 'NE', 'Cyclone Debbie': 'NE', 'Rob Lloyd': 'NE', 'Swedish': 'NE', 'Embark': 'NE', 'Vanderbilt University': 'NE', 'ReDeTec': 'NE', 'Zelda': 'NE', 'Wired': 'NE', 'Oculus VR': 'NE', 'New York Times': 'NE', 'Flickr': 'NE', 'Prisoner': 'NE', 'Nations Will': 'NE', 'Microchip Pet Door Connect': 'NE', 'Bryony Cole': 'NE', 'RAM': 'NE', 'Janet Lieberman': 'NE', 'NVIDIA': 'NE', 'Apple': 'NE', 'April Fools': 'NE', 'Samsung': 'NE', 'Google': 'NE', 'Texas': 'NE', 'Vivo': 'NE', 'PredictGov': 'NE', 'Navigant Research': 'NE', 'Mac Pro': 'NE', 'Clyde Mandellin': 'NE'}\n"
     ]
    }
   ],
   "source": [
    "print(entities_bin)"
   ]
  },
  {
   "cell_type": "code",
   "execution_count": 182,
   "metadata": {
    "collapsed": false
   },
   "outputs": [],
   "source": [
    "#print(tokenCounts(list(entities_bin.keys())))"
   ]
  },
  {
   "cell_type": "code",
   "execution_count": 88,
   "metadata": {
    "collapsed": false
   },
   "outputs": [
    {
     "name": "stdout",
     "output_type": "stream",
     "text": [
      "{'the only area Facebook': 'NP', 'Alexas': 'NP', 'Sex': 'NP', 'Joe Biden': 'NP', 'Localization Book': 'NP', 'Friedman': 'NP', 'Canada': 'NP', 'Verge': 'NP', 'Hajek': 'NP', 'Google Glass': 'NP', 'Shatner': 'NP', 'HTC Vive': 'NP', '68,000-plus Model': 'NP', 'GIFs': 'NP', 'Play Music': 'NP', 'Bill Gates': 'NP', 'a free Samsung': 'NP', 'Avatars': 'NP', 'Denis Grisak': 'NP', 'like Lego': 'NP', 'Alexandra Fine': 'NP', 'the right direction.вЂќ ReDeTecвЂ™s': 'NP', 'IoT': 'NP', 'Hollywood': 'NP', 'Snapdragon': 'NP', 'Music All': 'NP', 'Mac Mini': 'NP', 'Houston': 'NP', 'United Arab': 'NP', 'Virtual Sexology': 'NP', 'PACCAR': 'NP', 'Congress': 'NP', 'Group Ford': 'NP', 'Fin': 'NP', 'Legend': 'NP', 'HR': 'NP', 'Chu': 'NP', 'Thompson Innovation': 'NP', 'Due': 'NP', 'A': 'NP', 'Solar Pool': 'NP', 'PlayStation VR': 'NP', 'the all-electric Bolt': 'NP', 'Google Play': 'NP', 'Win': 'NP', 'Tuesday': 'NP', 'N': 'NP', 'Pacific': 'NP', 'Gaana': 'NP', 'new Garadget': 'NP', 'Well': 'NP', 'Sweden': 'NP', 'Uber': 'NP', 'James Bond-style': 'NP', 'Helsingborg': 'NP', 'commercial Hyperloop': 'NP', 'Fitbit': 'NP', 'Facebook': 'NP', 'RFID': 'NP', 'Mini': 'NP', 'early Rift': 'NP', 'Warby Parker-level': 'NP', 'Einride вЂ”': 'NP', 'Emoji Keyboard': 'NP', 'End Domestic': 'NP', 'Sorry Elon': 'NP', 'Music': 'NP', 'Stephanie Alys': 'NP', '73-year-old Patricia': 'NP', 'a sun-powered Roomba': 'NP', 'National Network': 'NP', 'BaDoink VR': 'NP', 'Wyoming': 'NP', 'Sick': 'NP', 'Runny Ron': 'NP', 'ChuвЂ™s': 'NP', 'Mark Zuckerberg': 'NP', 'Seasteading Institute': 'NP', 'Gothenburg': 'NP', 'Prisoner': 'NP', 'S8+': 'NP', 'Society': 'NP', 'Dubai': 'NP', 'Daydream': 'NP', 'Dame Products': 'NP', 'Left': 'NP', 'Raj Nair': 'NP', 'Associates Kimberly D.': 'NP', 'Trudeau': 'NP', 'Saturday': 'NP', 'Orleck': 'NP', 'Clogged Chris': 'NP', 'Westworld': 'NP', 'Amazon Prime': 'NP', '@ WilliamShatner @': 'NP', 'IRL': 'NP', 'powerful Mac': 'NP', 'Washington': 'NP', 'Global Safety': 'NP', 'else Einride': 'NP', 'Android': 'NP', 'Musk': 'NP', 'VR': 'NP', 'BamBrogran': 'NP', 'Studio': 'NP', 'Enrich': 'NP', 'Xiaomi Mi': 'NP', 'ReDeTecвЂ™s': 'NP', 'Alphabet': 'NP', 'doctoral candidate John': 'NP', 'Grants': 'NP', 'Mar': 'NP', 'EV вЂ”': 'NP', 'U.S.': 'NP', 'deep learning A.I': 'NP', 'вЂќ Chu': 'NP', 'December': 'NP', 'a new book Friedman': 'NP', 'SpaceX': 'NP', 'CIC': 'NP', 'Brisbane': 'NP', 'expensive Rift': 'NP', 'Mystery Vibe': 'NP', 'Computer Bild': 'NP', 'Cure': 'NP', 'OTA': 'NP', 'Americans': 'NP', 'startup Argo AI': 'NP', 'Alcatel': 'NP', 'Ford': 'NP', 'GM': 'NP', 'Henry': 'NP', 'immersive VR': 'NP', 'India': 'NP', 'the next generation Tesla': 'NP', 'the extra RAM': 'NP', 'Android Headlines': 'NP', 'Day': 'NP', 'Synergy Pharmaceuticals': 'NP', 'Institute': 'NP', 'Nevada': 'NP', 'Messenger': 'NP', 'Trump': 'NP', 'Fitbit Charge': 'NP', 'first Hyperloop': 'NP', 'WhoвЂ™s': 'NP', 'Patri Friedman': 'NP', 'Legends': 'NP', 'Group': 'NP', 'AI': 'NP', 'This particular Falcon': 'NP', 'Mercedes-Benz': 'NP', 'U.S.-based Hyperloop': 'NP', 'DeX': 'NP', 'Social Research': 'NP', 'host Alexandre Taliercio': 'NP', 'Emirates': 'NP', 'the French Polynesian': 'NP', 'Unlimited Access': 'NP', 'Paul Sim': 'NP', 'California': 'NP', 'Grisak': 'NP', 'Spotify': 'NP', 'So': 'NP', 'Portland': 'NP', 'CTO Brogan': 'NP', 'NVIDIA': 'NP', 'Ars Technica': 'NP', 'March': 'NP', 'Schiller': 'NP', 'Cyber Civil': 'NP', 'Mini ]': 'NP', 'Oculus Touch': 'NP', 'Dear Angelica': 'NP', 'Marine Corps': 'NP', 'the current Mac': 'NP', 'Myriad': 'NP', 'CEO': 'NP', 'Got': 'NP', 'Pity': 'NP', 'Mac': 'NP', 'Steve Jobs': 'NP', 'Vive': 'NP', 'Cole': 'NP', 'Galaxy S8': 'NP', 'Robert Martin': 'NP', 'Porn': 'NP', 'President Donald': 'NP', 'Tesla': 'NP', 'Gimmy Chu': 'NP', 'other Hyperloop': 'NP', 'Korean': 'NP', 'CNN': 'NP', 'Head': 'NP', 'Budget': 'NP', 'Ashley Blake': 'NP', 'Employment Insurance': 'NP', 'Amazon': 'NP', 'Daimler-Bosch': 'NP', 'Penninsula': 'NP', 'SureFlap': 'NP', 'Miami': 'NP', 'Revenge': 'NP', 'ID': 'NP', 'вЂ”': 'NP', 'Skills Plan': 'NP', 'Global Challenge': 'NP', 'Edition': 'NP', 'A recent TENAA': 'NP', 'other Mastodon': 'NP', 'Model S': 'NP', 'Wikipedia': 'NP', 'Florida': 'NP', 'CPU': 'NP', 'Oppo': 'NP', 'Nvidia-Bosch': 'NP', 'the affordable Model': 'NP', 'automotive supplier Bosch': 'NP', 'economist Milton Friedman': 'NP', 'Community Operations': 'NP', 'United States': 'NP', 'Okay': 'NP', 'the Renault-Nissan Alliance': 'NP', 'Joe Quirk': 'NP', 'Love': 'NP', 'the Employment Insurance': 'NP', 'Elon Musk-fronted': 'NP', 'Apple Senior': 'NP', 'Atlanta Gastroenterology': 'NP', 'Model Y': 'NP', 'Rob Lloyd': 'NP', 'Valley': 'NP', 'Violence': 'NP', 'Phil Schiller': 'NP', 'Friday': 'NP', 'creative agency Rewind': 'NP', 'Janet Lieberman': 'NP', 'Politicians': 'NP', 'RAW': 'NP', 'Governing': 'NP', 'Google': 'NP', 'Revenge Porn': 'NP', 'Garadget': 'NP', 'Humans': 'NP', 'Oculus Rift': 'NP', 'Clyde Mandellin': 'NP', 'Nanoleaf Aurora': 'NP', 'next Monday': 'NP', 'Volkswagen Group': 'NP', 'Tearline': 'NP', 'Rift +': 'NP', 'Brexit': 'NP', 'Mastodon': 'NP', 'NES Classic': 'NP', 'Model': 'NP', 'Seasteading': 'NP', 'Instagram': 'NP', 'Nvidia': 'NP', 'the mobile VR': 'NP', 'Oculus': 'NP', 'Robo Recall': 'NP', 'Famicom': 'NP', 'Las Vegas': 'NP', 'Times': 'NP', 'South Korea': 'NP', 'Geospatial-Intelligence Agency': 'NP', 'Twitterverse': 'NP', 'Access': 'NP', 'Read Trudeau': 'NP', 'Reddit': 'NP', 'PredictGov': 'NP', 'Guardian': 'NP', 'Touch': 'NP', 'Helio X20': 'NP', 'Fido': 'NP', 'Ever': 'NP', 'Hyundai Motor': 'NP', 'Providence': 'NP', 'a full HD': 'NP', '@': 'NP', 'Government': 'NP', 'Just': 'NP', 'Gear VR': 'NP', 'Spoiler': 'NP', 'Indians': 'NP', 'Restore': 'NP', 'Sundance': 'NP', 'contacted Grisak': 'NP', 'Autopilot': 'NP', 'J. Walter': 'NP', 'Technologies': 'NP', 'Kickstarter': 'NP', 'Oosterman': 'NP', 'Thiel': 'NP', 'Actor': 'NP', 'an all-in-one guide Facebook': 'NP', 'a top-of-the-line VR': 'NP', 'Amaroq': 'NP', 'Rights Initiative': 'NP', 'Zealand': 'NP', 'S.': 'NP', 'traditional automakers GM': 'NP', 'Door Connect': 'NP', 'Basically': 'NP', 'McMullen': 'NP', 'Rhode Island': 'NP', 'deleted Shatner': 'NP', 'a secret New': 'NP', 'New York': 'NP', 'Antigone Davis': 'NP', 'ReDeTec': 'NP', 'French Polynesia': 'NP', 'Xbox': 'NP', 'the new blood Waymo': 'NP', 'Matt McMullen': 'NP', 'Amazon Echo': 'NP', 'Mercedez-Benz': 'NP', 'Hyperloop Technologies': 'NP', 'Model X': 'NP', 'Cheyenne': 'NP', 'Quora': 'NP', 'Google Assistant': 'NP', 'UK': 'NP', 'Zelda': 'NP', 'Connecticut': 'NP', 'Australia': 'NP', 'Korea': 'NP', 'Vanderbilt University': 'NP', 'Mac Pro': 'NP', 'rich Model': 'NP', 'a secret Facebook': 'NP', 'passionate VR': 'NP', 'a regulation-rejecting Silicon': 'NP', 'Nevertheless': 'NP', 'April': 'NP', 'expensive VR': 'NP', 'Wii U': 'NP', 'world Bryony Cole': 'NP', 'a compromise.вЂќ Chu': 'NP', 'Seattle': 'NP', 'Nanoleaf': 'NP', 'Thursday': 'NP', 'Helpline': 'NP', 'Apple Music': 'NP', 'Think': 'NP', 'Zuckerberg': 'NP', 'Furthermore': 'NP', 'Alcatel Flash': 'NP', 'Rift': 'NP', 'SUV': 'NP', 'Mindshare': 'NP', 'CTO': 'NP', 'Ruhl': 'NP', 'Huawei': 'NP', 'Daimler': 'NP', 'CEO Dennon': 'NP', 'Pro': 'NP', 'вЂќ': 'NP', 'Mix': 'NP', 'random Synergy Pharmaceuticals': 'NP', 'Vice President': 'NP', 'Apple Pro': 'NP', 'Macs': 'NP', '] .com': 'NP', 'S': 'NP', 'Hyperloop': 'NP', 'Otto': 'NP', 'Rs': 'NP', 'Boston': 'NP', 'Google Home': 'NP', 'Delphi': 'NP', 'star William Shatner': 'NP', 'Pretty': 'NP', 'Doody Dan': 'NP', 'Canadians': 'NP', 'PayPal': 'NP', 'RealDoll': 'NP', 'ThatвЂ™s': 'NP', 'NGA': 'NP', 'powerful Core': 'NP', 'Google Drive': 'NP', 'T-pod': 'NP', 'Fusion': 'NP', 'Poop Troop': 'NP', 'U.S. National': 'NP', 'Nintendo': 'NP', 'N+1': 'NP', 'unsolicited Beauty': 'NP', 'Orlando': 'NP', 'China': 'NP', 'Liberate Humanity': 'NP', 'Github': 'NP', 'the adorable Squirt': 'NP', 'Amid': 'NP', 'Elon Musk': 'NP', 'Mastodon.club': 'NP', 'Beast': 'NP', 'IDEO': 'NP', 'therapist Hernando Chaves': 'NP', 'Route': 'NP', 'Cindy Gallop': 'NP', 'Donald Trump': 'NP', 'Martin': 'NP', 'Worldwide Marketing': 'NP', 'BMW': 'NP', 'Game Cube': 'NP', 'EI': 'NP', 'a lengthy Medium': 'NP', 'The first Hyperloop': 'NP', 'FCC': 'NP', 'large вЂ”': 'NP', 're-released Zelda': 'NP', 'local players Saavn': 'NP', 'Flickr': 'NP', 'Xiaomi': 'NP', 'LG': 'NP', 'HoloLens': 'NP', 'Wii': 'NP', 'Hyperloop One': 'NP', 'backer Peter Thiel': 'NP', 'Cyclone Debbie': 'NP', 'Rewind': 'NP', 'Microchip Pet': 'NP', 'Enter PredictGov': 'NP', 'WilliamShatner': 'NP', 'VP': 'NP', 'January': 'NP', 'Renault-Nissan Alliance': 'NP', 'OnePlus': 'NP', 'Poor': 'NP', 'Cupertino': 'NP', 'Facebook вЂ”': 'NP', 'Einride': 'NP', 'Wynk Music': 'NP', 'Intel': 'NP', 'Tesla Model': 'NP', 'Virtual Console': 'NP', 'Tahiti': 'NP', 'director Randolph Hencken': 'NP', 'early Oculus': 'NP', 'Blake': 'NP', 'Time': 'NP', 'a premium Samsung': 'NP', 'MonoLens': 'NP', 'mobile VR': 'NP', 'Justin Trudeau': 'NP', 'S8': 'NP', 'Thurlow': 'NP', 'First': 'NP', 'serial Samsung': 'NP', 'Adam Thurlow': 'NP', 'Emmy': 'NP', 'Flash': 'NP', 'Massachusetts': 'NP', 'February': 'NP', 'Center': 'NP', 'Chevrolet': 'NP', 'Oculus Story': 'NP', 'Wired': 'NP', 'Note': 'NP', 'October': 'NP', 'own Hyperloop': 'NP', 'Which': 'NP', '@ WilliamShatner': 'NP', 'a memorable Mac': 'NP', 'May': 'NP', 'Microsoft': 'NP', 'consumer-ready VR': 'NP', 'founder Palmer Luckey': 'NP', 'Level': 'NP', 'Lauder': 'NP', 'a Solar Breeze': 'NP', 'Silicon Valley': 'NP', 'Embark': 'NP', 'Canada Student': 'NP', 'Monday': 'NP', 'Martin Hajek': 'NP', 'Oculus VR': 'NP', 'law Professor J.B.': 'NP', 'Nay': 'NP', 'Environment': 'NP', 'Bosch': 'NP', 'Solar-Breeze': 'NP', 'Nations Will': 'NP', 'Navigant Research': 'NP', 'site Make Love': 'NP', 'RAM': 'NP', 'Apple': 'NP', 'April Fools': 'NP', 'ItвЂ™s': 'NP', 'Samsung': 'NP', 'Texas': 'NP', 'Vivo': 'NP', 'Will': 'NP', 'Future': 'NP'}\n"
     ]
    }
   ],
   "source": [
    "#custom entities\n",
    "\n",
    "#more or less nice\n",
    "grammar = \"NP: {((<DT>?<JJ>).*(<NN>?<NNS>?<NNPS>?<NNP>))|((<NN>?<NNS>?<NNPS>?<NNP>).*(<NNP>|<NNPS>))|(<NNP>|<NNPS>)}\"\n",
    "cp = nltk.RegexpParser(grammar)\n",
    "result = cp.parse(tagged_1)\n",
    "entities_c=extractEntities(result)\n",
    "print(entities_c)\n"
   ]
  },
  {
   "cell_type": "code",
   "execution_count": 170,
   "metadata": {
    "collapsed": false
   },
   "outputs": [],
   "source": [
    "#function for classification of noun phrase \n",
    "\n",
    "def entities_classif(entities):\n",
    "    classif={}\n",
    "    for ent in list(entities.keys()):\n",
    "        try:\n",
    "            page=wikipedia.page(ent)\n",
    "        except Exception:\n",
    "            classif[ent]='MISC'\n",
    "        else:\n",
    "            summary=page.summary\n",
    "            sent = nltk.sent_tokenize(summary)\n",
    "            if sent!=[]:\n",
    "                sent=sent[0]\n",
    "                tok = nltk.word_tokenize(sent)\n",
    "                tagged= nltk.pos_tag(tok)\n",
    "                expression=\"NP: {(<VBZ>+<DT|JJ>+<NN|NNS>)}\" #.*<DT>.?<JJ>.*<NN|NNS> <NN|NNS|NNP|NNPS>?<VBZ>?\n",
    "                cp = nltk.RegexpParser(expression)\n",
    "                r= cp.parse(tagged)\n",
    "                e=extractEntities(r)\n",
    "                if e=={}:\n",
    "                    classif[ent]='MISC'\n",
    "                else:\n",
    "                    classif[ent+' '+list(e.keys())[0]]='NP'\n",
    "            else:\n",
    "                classif[ent]=\"MISC\"\n",
    "    return classif"
   ]
  },
  {
   "cell_type": "code",
   "execution_count": 171,
   "metadata": {
    "collapsed": false
   },
   "outputs": [
    {
     "name": "stderr",
     "output_type": "stream",
     "text": [
      "C:\\Users\\Rita\\Anaconda3\\lib\\site-packages\\bs4\\__init__.py:181: UserWarning: No parser was explicitly specified, so I'm using the best available HTML parser for this system (\"lxml\"). This usually isn't a problem, but if you run this code on another system, or in a different virtual environment, it may use a different parser and behave differently.\n",
      "\n",
      "The code that caused this warning is on line 184 of the file C:\\Users\\Rita\\Anaconda3\\lib\\runpy.py. To get rid of this warning, change code that looks like this:\n",
      "\n",
      " BeautifulSoup([your markup])\n",
      "\n",
      "to this:\n",
      "\n",
      " BeautifulSoup([your markup], \"lxml\")\n",
      "\n",
      "  markup_type=markup_type))\n"
     ]
    },
    {
     "name": "stdout",
     "output_type": "stream",
     "text": [
      "{'Verge': 'MISC', 'first Hyperloop is a company': 'NP', 'Denis Grisak': 'MISC', 'Localization Book': 'MISC', 'Friedman': 'MISC', 'Nintendo is a Japanese multinational consumer': 'NP', 'SUV is a vehicle': 'NP', 'Apple Pro is a digital audio workstation': 'NP', 'Ars Technica': 'MISC', 'Google Glass': 'MISC', 'Tearline': 'MISC', 'Shatner': 'MISC', 'Tesla Model is an upcoming all-electric four-door compact luxury': 'NP', 'Google Assistant is an intelligent personal assistant': 'NP', 'Microsoft is an American multinational': 'NP', 'Nanoleaf Aurora is a green technology': 'NP', 'Messenger': 'MISC', 'Play Music is a music': 'NP', 'a premium Samsung is an Italian digital terrestrial television': 'NP', 'IoT': 'MISC', 'Houston': 'MISC', 'early Oculus is a virtual reality': 'NP', 'Apple is a deciduous tree': 'NP', 'immersive VR': 'MISC', 'Future': 'MISC', 'Budget is a quantitative expression': 'NP', 'startup Argo AI is an American multinational': 'NP', 'HR': 'MISC', 'Chu': 'MISC', 'Due': 'MISC', 'T-pod is the second album': 'NP', 'the all-electric Bolt': 'MISC', '@ WilliamShatner is a Canadian actor': 'NP', 'Politicians is a person': 'NP', 'Fin is a thin component': 'NP', 'traditional automakers GM': 'MISC', 'Basically': 'MISC', 'Well': 'MISC', '] .com is a website': 'NP', 'Uber': 'MISC', 'CEO Dennon': 'MISC', 'Robert Martin': 'MISC', 'expensive Rift': 'MISC', 'Virtual Sexology is a virtual reality': 'NP', 'Renault-Nissan Alliance is a Franco-Japanese strategic partnership': 'NP', 'early Rift is a linear zone': 'NP', 'other Hyperloop is a company': 'NP', 'Einride вЂ”': 'MISC', 'Trudeau is a surname': 'NP', 'the Renault-Nissan Alliance is a Franco-Japanese strategic partnership': 'NP', 'Emoji Keyboard': 'MISC', 'Boston is the capital': 'NP', 'End Domestic': 'MISC', 'Mercedez-Benz is a global automobile': 'NP', 'Hollywood': 'MISC', 'Wii U is a home': 'NP', 'Stephanie Alys': 'MISC', '73-year-old Patricia': 'MISC', 'Trump': 'MISC', 'VP': 'MISC', 'Runny Ron': 'MISC', 'Amazon Prime is a paid subscription': 'NP', 'ChuвЂ™s': 'MISC', 'Friday is the day': 'NP', 'Martin Hajek': 'MISC', 'Mar': 'MISC', 'Bosch is a German multinational engineering': 'NP', 'CTO Brogan is a company': 'NP', 'S8+': 'MISC', 'Cole': 'MISC', 'Dubai': 'MISC', 'Sex': 'MISC', 'Violence has a high likelihood': 'NP', 'Left': 'MISC', 'Raj Nair': 'MISC', 'Associates Kimberly D.': 'MISC', 'Justin Trudeau is a Canadian politician': 'NP', 'Orleck': 'MISC', 'Clogged Chris': 'MISC', 'Actor is a person': 'NP', 'Steve Jobs': 'MISC', 'Amazon Echo is a smart speaker': 'NP', 'Think': 'MISC', 'IRL': 'MISC', 'Thursday is the day': 'NP', 'powerful Mac': 'MISC', 'Orlando is a city': 'NP', 'New York is a state': 'NP', 'Global Safety': 'MISC', 'else Einride': 'MISC', 'Android': 'MISC', 'mobile VR is a mobile virtual reality': 'NP', 'Google Play is a digital distribution': 'NP', 'S8': 'MISC', 'VR': 'MISC', 'BamBrogran': 'MISC', 'Model S is a full-sized all-electric five-door': 'NP', 'Enrich': 'MISC', 'Xiaomi Mi': 'MISC', 'ReDeTecвЂ™s': 'MISC', 'Win': 'MISC', 'Blake is a surname': 'NP', 'Grants': 'MISC', 'United Arab is a federal absolute': 'NP', 'deep learning A.I': 'MISC', 'вЂќ Chu': 'MISC', 'Nanoleaf is a green technology': 'NP', 'CIC': 'MISC', 'Apple Senior is a chain': 'NP', 'Computer Bild': 'MISC', 'OTA': 'MISC', 'Americans': 'MISC', 'doctoral candidate John qualifies the holder': 'NP', 'Alcatel': 'MISC', 'GM': 'MISC', 'EV вЂ” is a letter': 'NP', 'Studio is an artist': 'NP', 'May is the fifth month': 'NP', 'Elon Musk-fronted is a South African-born Canadian-American business': 'NP', 'Vice President is an officer': 'NP', 'the extra RAM': 'MISC', 'unsolicited Beauty is a British brand': 'NP', 'Huawei is a Chinese multinational networking': 'NP', 'Cindy Gallop is an English advertising': 'NP', 'Wii is a home': 'NP', 'Google is an American multinational': 'NP', 'BaDoink VR is a virtual reality': 'NP', 'Washington': 'MISC', 'Navigant Research is a specialized expert': 'NP', 'Hyundai Motor is a South Korean multinational automotive manufacturer': 'NP', 'Note': 'MISC', 'WhoвЂ™s': 'MISC', 'James Bond-style is the main signature': 'NP', 'February is the second month': 'NP', 'French Polynesia is an overseas collectivity': 'NP', 'AI': 'MISC', 'PayPal supports online money': 'NP', 'Oculus is a circular opening': 'NP', 'new Garadget is a genre': 'NP', 'Hyperloop One is a company': 'NP', 'Fitbit Charge is an incomplete list': 'NP', 'Social Research': 'MISC', 'host Alexandre Taliercio': 'MISC', 'N+1 publishes social criticism': 'NP', 'Emirates': 'MISC', 'the French Polynesian': 'MISC', 'Avatars is a concept': 'NP', 'Pro': 'MISC', 'a free Samsung is a South Korean multinational conglomerate': 'NP', 'Grisak': 'MISC', 'S.': 'MISC', 'Seasteading is the concept': 'NP', 'So': 'MISC', 'Prisoner is a person': 'NP', 'Alcatel Flash has 5-megapixel camera': 'NP', 'Portland': 'MISC', 'SpaceX is an American aerospace': 'NP', 'January is the first month': 'NP', 'Helsingborg is a town': 'NP', 'Schiller': 'MISC', 'Cyber Civil': 'MISC', 'CPU is the electronic circuitry': 'NP', 'Marine Corps': 'MISC', 'Nvidia is an American technology': 'NP', 'Myriad': 'MISC', 'Got': 'MISC', 'Pity': 'MISC', 'Mac': 'MISC', 'Dear Angelica': 'MISC', 'Mercedes-Benz is a global automobile': 'NP', 'Chevrolet is an American automobile': 'NP', 'Vive': 'MISC', 'Galaxy S8': 'MISC', 'Macs': 'MISC', 'President Donald': 'MISC', 'Tesla': 'MISC', 'Gimmy Chu': 'MISC', 'commercial Hyperloop is a proposed mode': 'NP', 'Cure is the end': 'NP', 'Korean': 'MISC', 'Legends': 'MISC', 'N is the 14th letter': 'NP', 'HoloLens is a pair': 'NP', 'Geospatial-Intelligence Agency is both a combat': 'NP', 'the current Mac includes the graphical user': 'NP', 'a new book Friedman': 'MISC', 'Rift + is a linear zone': 'NP', 'a full HD is a set': 'NP', 'Amazon': 'MISC', 'CNN is an American basic': 'NP', 'First': 'MISC', 'LG is a South Korean multinational conglomerate': 'NP', 'Google Drive is a file storage': 'NP', 'ID': 'MISC', 'Korea is a historical state': 'NP', 'вЂ”': 'MISC', 'Global Challenge': 'MISC', 'NES Classic is a miniature': 'NP', 'Edition': 'MISC', 'A recent TENAA': 'MISC', 'other Mastodon': 'MISC', 'Congress is a formal meeting': 'NP', 'Wikipedia is a free online': 'NP', 'Tuesday is a day': 'NP', 'Nations Will': 'MISC', 'Oppo': 'MISC', 'Mindshare is a global media': 'NP', 'Nvidia-Bosch': 'MISC', 'the affordable Model': 'MISC', 'automotive supplier Bosch': 'MISC', 'economist Milton Friedman': 'MISC', 'Silicon Valley is a nickname': 'NP', 'Rob Lloyd is a Cheshire-based property': 'NP', 'PlayStation VR is a virtual reality': 'NP', 'Porn is a location': 'NP', 'Wyoming is a state': 'NP', 'CTO': 'MISC', 'Twitterverse is an online news': 'NP', 'HTC Vive is a high-end virtual reality': 'NP', 'Game Cube is a home': 'NP', 'Employment Insurance': 'MISC', 'the Employment Insurance': 'MISC', 'Legend possesses certain qualities': 'NP', 'Hyperloop Technologies is a company': 'NP', 'Atlanta Gastroenterology': 'MISC', 'Oculus Story is an original animated virtual-reality': 'NP', 'RealDoll is a life-size sex': 'NP', 'Model Y': 'MISC', 'Android Headlines is a List': 'NP', 'Westworld is an American science': 'NP', 'creative agency Rewind': 'MISC', 'Rhode Island is a state': 'NP', 'Musk is a class': 'NP', 'NVIDIA is an American technology': 'NP', 'Quora is a question-and-answer site': 'NP', 'Revenge Porn': 'MISC', 'Garadget': 'MISC', 'Humans': 'MISC', 'Head is the part': 'NP', 'Clyde Mandellin': 'MISC', 'S is the 19th letter': 'NP', 'next Monday': 'MISC', 'founder Palmer Luckey is an American entrepreneur': 'NP', 'Canada is a country': 'NP', 'Embark is the public transit': 'NP', 'Canadians': 'MISC', 'Center': 'MISC', 'Brexit': 'MISC', 'Mastodon': 'MISC', 'Gear VR is a mobile virtual reality': 'NP', 'Model': 'MISC', 'Community Operations is an ongoing multi-agency': 'NP', 'Revenge is a form': 'NP', 'an all-in-one guide Facebook is an American for-profit corporation': 'NP', 'RAW': 'MISC', 'Times': 'MISC', 'Henry': 'MISC', 'Monday is the day': 'NP', 'Sorry Elon is a journalist': 'NP', 'Society is a group': 'NP', 'Access': 'MISC', 'A is the first letter': 'NP', 'Guardian': 'MISC', 'Touch': 'MISC', 'powerful Core': 'MISC', 'Phil Schiller is the senior vice': 'NP', 'Music All is an online music': 'NP', 'Fido': 'MISC', 'Ever': 'MISC', 'Enter PredictGov': 'MISC', 'Providence': 'MISC', 'consumer-ready VR is a mobile virtual reality': 'NP', '@': 'MISC', 'Just': 'MISC', 'Spoiler': 'MISC', 'Indians': 'MISC', 'Restore': 'MISC', 'Government is the system': 'NP', 'Read Trudeau is a Canadian politician': 'NP', 'contacted Grisak': 'MISC', 'backer Peter Thiel is an American businessman': 'NP', 'Thurlow is a surname': 'NP', 'J. Walter': 'MISC', 'December is the twelfth': 'NP', 'Okay is an English word': 'NP', 'Oosterman': 'MISC', 'Flickr is an image': 'NP', 'Hyperloop is a proposed mode': 'NP', 'Bill Gates is an American business': 'NP', 'the new blood Waymo': 'MISC', 'Amaroq': 'MISC', 'Rights Initiative': 'MISC', 'Zealand': 'MISC', 'Hajek is a Czech surname': 'NP', 'IDEO is an international design': 'NP', 'PACCAR has substantial manufacturing': 'NP', 'like Lego is a line': 'NP', 'Door Connect': 'MISC', 'McMullen': 'MISC', 'Tahiti': 'MISC', 'Sick': 'MISC', 'ItвЂ™s': 'MISC', 'China is a unitary sovereign': 'NP', 'OnePlus is a Chinese smartphone': 'NP', 'a memorable Mac': 'MISC', 'Matt McMullen': 'MISC', 'Alphabet is a standard set': 'NP', 'National Network is a network': 'NP', 'the mobile VR is a mobile virtual reality': 'NP', 'Ruhl is a surname': 'NP', 'Reddit is an American social news': 'NP', 'Mac Pro is a series': 'NP', 'Cheyenne': 'MISC', 'Mac Mini is a small desktop': 'NP', 'Institute': 'MISC', 'Zelda': 'MISC', 'the right direction.вЂќ ReDeTecвЂ™s': 'MISC', 'April Fools': 'MISC', 'Patri Friedman is an American libertarian activist': 'NP', 'a secret Facebook is an American for-profit corporation': 'NP', 'rich Model': 'MISC', 'California': 'MISC', 'ThatвЂ™s': 'MISC', 'Unlimited Access is a list': 'NP', 'a regulation-rejecting Silicon': 'MISC', 'Nevertheless': 'MISC', 'expensive VR': 'MISC', 'SureFlap is a small tab': 'NP', 'Love is a variety': 'NP', 'a compromise.вЂќ Chu': 'MISC', 'Mini is a small economy': 'NP', 'Spotify is a music': 'NP', 'Rift is a linear zone': 'NP', 'Las Vegas is the 28th-most populated city': 'NP', 'Daimler-Bosch is a German multinational automotive corporation': 'NP', 'Furthermore': 'MISC', 'India is a country': 'NP', 'Mystery Vibe is a British health': 'NP', 'March is the third month': 'NP', 'Helpline is a telephone': 'NP', 'Daimler': 'MISC', 'Facebook is an American for-profit corporation': 'NP', 'Volkswagen Group is a German multinational automotive manufacturing': 'NP', 'Mix': 'MISC', 'random Synergy Pharmaceuticals': 'MISC', 'Penninsula is a piece': 'NP', 'Music is an art form': 'NP', 'Brisbane is the capital': 'NP', 'Time is the indefinite continued progress': 'NP', 'April is the fourth month': 'NP', 'a secret New is a panel': 'NP', 'Oculus Touch is a virtual reality': 'NP', 'Otto': 'MISC', 'Rs': 'MISC', 'Gothenburg is the second-largest city': 'NP', 'Delphi': 'MISC', 'Fitbit is an American company': 'NP', 'Nevada is a state': 'NP', 'Pretty': 'MISC', 'Doody Dan': 'MISC', 'deleted Shatner': 'MISC', 'Samsung is a South Korean multinational conglomerate': 'NP', 're-released Zelda is a high-fantasy action-adventure': 'NP', 'Seasteading Institute is the concept': 'NP', 'Alexas provides commercial web': 'NP', 'Sundance': 'MISC', 'NGA': 'MISC', 'Mark Zuckerberg is an American computer': 'NP', 'Group Ford is a forward': 'NP', 'Dame Products is a religious community': 'NP', 'Vanderbilt University is a private research': 'NP', 'Intel is an American multinational corporation': 'NP', 'Fusion': 'MISC', 'Emmy': 'MISC', 'a Solar Breeze is a British high-wing': 'NP', 'Poop Troop': 'MISC', 'U.S. National': 'MISC', 'Solar Pool is a large scale': 'NP', 'WilliamShatner is a Canadian actor': 'NP', 'Connecticut is the southernmost': 'NP', 'Warby Parker-level is an American brand': 'NP', 'Zuckerberg is an American computer': 'NP', 'Github': 'MISC', 'the adorable Squirt': 'MISC', 'Amid': 'MISC', 'Famicom is an 8-bit home': 'NP', 'Mastodon.club': 'MISC', 'Beast': 'MISC', 'Australia is a country': 'NP', 'therapist Hernando Chaves': 'MISC', 'вЂќ is a major educational institution': 'NP', 'Sweden is a Scandinavian country': 'NP', 'Route': 'MISC', 'Skills Plan is a law': 'NP', 'star William Shatner is a Canadian actor': 'NP', 'Miami is a seaport city': 'NP', 'Worldwide Marketing': 'MISC', 'Oculus Rift is a virtual reality': 'NP', 'Environment': 'MISC', 'EI': 'MISC', 'a lengthy Medium': 'MISC', 'FCC': 'MISC', 'large вЂ”': 'MISC', 'Mini ] is a small economy': 'NP', 'Google Home is a smart speaker': 'NP', 'Thompson Innovation is a combination': 'NP', 'Vivo': 'MISC', 'Xiaomi': 'MISC', 'Joe Quirk is an American author': 'NP', 'Pacific': 'MISC', 'U.S.-based Hyperloop': 'MISC', 'Liberate Humanity is an American author': 'NP', 'Oculus VR is an American technology': 'NP', 'This particular Falcon is a full-size car': 'NP', 'BMW is a German luxury': 'NP', 'Cyclone Debbie': 'MISC', 'Rewind': 'MISC', 'October is the tenth month': 'NP', 'Xbox is a video': 'NP', 'Seattle is a seaport city': 'NP', 'DeX': 'MISC', 'Paul Sim is the fourth major title': 'NP', 'the only area Facebook is an American for-profit corporation': 'NP', 'Donald Trump': 'MISC', 'Kickstarter maintains a global crowdfunding': 'NP', 'Texas': 'MISC', 'Cupertino': 'MISC', 'Virtual Console is a specialized section': 'NP', 'Facebook вЂ”': 'MISC', 'Einride': 'MISC', 'RAM': 'MISC', 'Apple Music is a music-streaming service': 'NP', 'Martin': 'MISC', 'director Randolph Hencken': 'MISC', 'Daydream is a short-term detachment': 'NP', 'Poor': 'MISC', 'The first Hyperloop is a company': 'NP', 'Thiel': 'MISC', 'a sun-powered Roomba': 'MISC', '68,000-plus Model is a person': 'NP', 'Governing': 'MISC', 'Valley is a low area': 'NP', 'serial Samsung': 'MISC', 'Adam Thurlow': 'MISC', 'a top-of-the-line VR is a state-owned railway': 'NP', 'Flash': 'MISC', 'Massachusetts': 'MISC', 'Model X': 'MISC', 'passionate VR is an American engineer': 'NP', 'Janet Lieberman is a former professional': 'NP', 'own Hyperloop is a proposed mode': 'NP', 'Gaana is a type': 'NP', 'Wired': 'MISC', 'PredictGov is a statement': 'NP', '@ WilliamShatner @ is a Canadian actor': 'NP', 'Snapdragon is a genus': 'NP', 'Wynk Music is a subsidiary': 'NP', 'Which': 'MISC', 'Microchip Pet is an identifying': 'NP', 'Florida is a state': 'NP', 'Ashley Blake is a British former television': 'NP', 'RFID uses electromagnetic fields': 'NP', 'Instagram is a mobile photo-sharing application': 'NP', 'Saturday is the day': 'NP', 'Level': 'MISC', 'Synergy Pharmaceuticals is the creation': 'NP', 'Antigone Davis is a tragedy': 'NP', 'Day is a unit': 'NP', 'Autopilot is a system': 'NP', 'GIFs is a bitmap image': 'NP', 'Canada Student': 'MISC', 'MonoLens is a genus': 'NP', 'Group is an algebraic structure': 'NP', 'law Professor J.B.': 'MISC', 'Nay': 'MISC', 'UK is a sovereign country': 'NP', 'Elon Musk is a South African-born Canadian-American business': 'NP', 'Lauder is a town': 'NP', 'Solar-Breeze': 'MISC', 'local players Saavn': 'MISC', 'CEO describes the position': 'NP', 'Will': 'MISC', 'Technologies is the collection': 'NP', 'Helio X20 is a smartphone': 'NP', 'world Bryony Cole': 'MISC', 'site Make Love': 'MISC', 'Ford is an American multinational': 'NP', 'South Korea is a sovereign state': 'NP', 'the next generation Tesla is an American automaker': 'NP', 'ReDeTec': 'MISC', 'Joe Biden is an American politician': 'NP', 'United States is a constitutional federal republic': 'NP', 'Alexandra Fine': 'MISC', 'U.S. is a constitutional federal republic': 'NP', 'Robo Recall is a first-person shooter': 'NP'}\n"
     ]
    }
   ],
   "source": [
    "cl_c=entities_classif(entities_c)\n",
    "print(cl_c)"
   ]
  },
  {
   "cell_type": "code",
   "execution_count": null,
   "metadata": {
    "collapsed": false
   },
   "outputs": [],
   "source": []
  },
  {
   "cell_type": "code",
   "execution_count": 172,
   "metadata": {
    "collapsed": false
   },
   "outputs": [
    {
     "name": "stderr",
     "output_type": "stream",
     "text": [
      "C:\\Users\\Rita\\Anaconda3\\lib\\site-packages\\bs4\\__init__.py:181: UserWarning: No parser was explicitly specified, so I'm using the best available HTML parser for this system (\"lxml\"). This usually isn't a problem, but if you run this code on another system, or in a different virtual environment, it may use a different parser and behave differently.\n",
      "\n",
      "The code that caused this warning is on line 184 of the file C:\\Users\\Rita\\Anaconda3\\lib\\runpy.py. To get rid of this warning, change code that looks like this:\n",
      "\n",
      " BeautifulSoup([your markup])\n",
      "\n",
      "to this:\n",
      "\n",
      " BeautifulSoup([your markup], \"lxml\")\n",
      "\n",
      "  markup_type=markup_type))\n"
     ]
    },
    {
     "name": "stdout",
     "output_type": "stream",
     "text": [
      "{'Alcatel': 'MISC', 'Verge': 'MISC', 'Canada is a country': 'NP', 'Alexandre Taliercio': 'MISC', 'Patri Friedman is an American libertarian activist': 'NP', 'Denis Grisak': 'MISC', 'Friedman': 'MISC', 'Brexit': 'MISC', 'Mastodon': 'MISC', 'British': 'MISC', 'Japanese': 'MISC', 'Gear VR is a mobile virtual reality': 'NP', 'Google Glass': 'MISC', 'Tearline': 'MISC', 'Shatner': 'MISC', 'Tesla Model is an upcoming all-electric four-door compact luxury': 'NP', 'Nanoleaf Aurora is a green technology': 'NP', 'Revenge is a form': 'NP', 'Medium': 'MISC', 'Raj Nair': 'MISC', 'Tahiti': 'MISC', 'Palmer Luckey is an American entrepreneur': 'NP', 'RAW': 'MISC', 'Politicians is a person': 'NP', 'Helsingborg is a town': 'NP', 'Hernando Chaves': 'MISC', 'Messenger': 'MISC', 'Play Music is a music': 'NP', 'Navigant Research is a specialized expert': 'NP', 'IoT': 'MISC', 'United Arab Emirates is a federal absolute': 'NP', 'Volkswagen Group is a German multinational automotive manufacturing': 'NP', 'Congress is a formal meeting': 'NP', 'Guardian': 'MISC', 'Touch': 'MISC', 'Thurlow is a surname': 'NP', 'Phil Schiller is the senior vice': 'NP', 'Wikipedia is a free online': 'NP', 'James': 'MISC', 'Fido': 'MISC', 'Google Drive is a file storage': 'NP', 'Hollywood': 'MISC', 'Future': 'MISC', 'Providence': 'MISC', 'Rob Lloyd is a Cheshire-based property': 'NP', 'Worldwide': 'MISC', 'Chu': 'MISC', 'Spoiler': 'MISC', 'Rhode Island is a state': 'NP', 'ReDeTec': 'MISC', 'Daimler': 'MISC', 'Read Trudeau is a Canadian politician': 'NP', 'iPad is a line': 'NP', 'Xiaomi Mi Mix': 'MISC', 'Rift is a linear zone': 'NP', 'Fitbit Charge HR': 'MISC', 'Okay is an English word': 'NP', 'Oosterman': 'MISC', 'Flickr is an image': 'NP', 'Pacific': 'MISC', 'Basically': 'MISC', 'Thiel': 'MISC', 'iOS is a mobile operating': 'NP', 'Amaroq': 'MISC', 'Model': 'MISC', 'IDEO is an international design': 'NP', 'Future of Sex': 'MISC', 'Qualcomm Snapdragon is a suite': 'NP', 'Robert Martin': 'MISC', 'Loss': 'MISC', 'Atlanta Gastroenterology Associates Kimberly': 'MISC', 'McMullen': 'MISC', 'Make Love is a song': 'NP', 'Sick': 'MISC', 'Love is a variety': 'NP', 'Bill Gates is an American business': 'NP', 'China is a unitary sovereign': 'NP', 'Trudeau is a surname': 'NP', 'Amazon Echo is a smart speaker': 'NP', 'OnePlus is a Chinese smartphone': 'NP', 'Boston is the capital': 'NP', 'Google is an American multinational': 'NP', 'Florida is a state': 'NP', 'Waymo is an autonomous car': 'NP', 'CTO Brogan is a company': 'NP', 'Matt McMullen': 'MISC', 'Alphabet is a standard set': 'NP', 'Elon': 'MISC', 'National Network is a network': 'NP', 'Seattle is a seaport city': 'NP', 'Milton Friedman': 'MISC', 'Oculus Story Studio is an original animated virtual-reality': 'NP', 'Runny Ron': 'MISC', 'Wii is a home': 'NP', 'PredictGov is a statement': 'NP', 'iMac is a range': 'NP', 'Martin Hajek': 'MISC', 'Bosch is a German multinational engineering': 'NP', 'Chinese': 'MISC', 'Google Play Music is a music': 'NP', 'Cole': 'MISC', 'Dubai': 'MISC', 'Sex': 'MISC', 'Environment': 'MISC', 'Left': 'MISC', 'California': 'MISC', 'Hyundai Motor Group Ford is a South Korean multinational automotive manufacturer': 'NP', 'TENAA': 'MISC', 'Hajek is a Czech surname': 'NP', 'Justin Trudeau is a Canadian politician': 'NP', 'Oculus Touch is a virtual reality': 'NP', 'Social Research': 'MISC', 'Sorry Elon is a journalist': 'NP', 'Clogged Chris': 'MISC', 'Canada Student Grants': 'MISC', 'Actor is a person': 'NP', 'CEO Dennon': 'MISC', 'Steve Jobs': 'MISC', 'Patricia Lauder is an American actress': 'NP', 'Nintendo is a Japanese multinational consumer': 'NP', 'Community Operations is an ongoing multi-agency': 'NP', 'Luckey': 'MISC', 'IRL': 'MISC', 'Mini is a small economy': 'NP', 'Spotify is a music': 'NP', 'Orlando is a city': 'NP', 'Washington': 'MISC', 'Global Safety': 'MISC', 'Tahitian': 'MISC', 'RealDoll is a life-size sex': 'NP', 'Canadian': 'MISC', 'Android': 'MISC', 'India is a country': 'NP', 'J. Walter Thompson Innovation Group': 'MISC', 'Lego is a line': 'NP', 'Mystery Vibe is a British health': 'NP', 'VR': 'MISC', 'Model S is a full-sized all-electric five-door': 'NP', 'Enrich': 'MISC', 'Xiaomi Mi': 'MISC', 'Synergy Pharmaceuticals is the creation': 'NP', 'Virtual Sexology is a virtual reality': 'NP', 'Google Play Music All Access is a music': 'NP', 'Nvidia is an American technology': 'NP', 'вЂќ Chu': 'MISC', 'Brisbane is the capital': 'NP', 'Nanoleaf is a green technology': 'NP', 'Time is the indefinite continued progress': 'NP', 'CIC': 'MISC', 'momentвЂќ': 'MISC', 'Otto': 'MISC', 'English': 'MISC', 'Gothenburg is the second-largest city': 'NP', 'Apple Senior is a chain': 'NP', 'Liberate': 'MISC', 'Computer Bild': 'MISC', 'Fitbit is an American company': 'NP', 'Nevada is a state': 'NP', 'OTA': 'MISC', 'Model S.': 'MISC', 'Quora is a question-and-answer site': 'NP', 'Doody Dan': 'MISC', 'TechCrunch is an online': 'NP', 'Samsung is a South Korean multinational conglomerate': 'NP', 'Play Music Unlimited Access': 'MISC', 'Employment is a relationship': 'NP', 'Alexas provides commercial web': 'NP', 'Sundance': 'MISC', 'Argo AI': 'MISC', 'NGA': 'MISC', 'Mark Zuckerberg is an American computer': 'NP', 'Cyclone Debbie': 'MISC', 'Dame Products is a religious community': 'NP', 'Vanderbilt University is a private research': 'NP', 'Famicom is an 8-bit home': 'NP', 'New Zealand is an island': 'NP', 'Hyperloop is a proposed mode': 'NP', 'Volkswagen is a German automaker': 'NP', 'Cindy Gallop is an English advertising': 'NP', 'Localization': 'MISC', 'Poop Troop': 'MISC', 'Institute': 'MISC', 'WilliamShatner is a Canadian actor': 'NP', 'Henry': 'MISC', 'Connecticut is the southernmost': 'NP', 'Zuckerberg is an American computer': 'NP', 'Github': 'MISC', 'Peter Thiel is an American businessman': 'NP', 'Intel is an American multinational corporation': 'NP', 'Beast': 'MISC', 'Society is a group': 'NP', 'Australian is a country': 'NP', 'Australia is a country': 'NP', 'AI': 'MISC', 'PayPal supports online money': 'NP', 'Oculus is a circular opening': 'NP', 'вЂќ is a major educational institution': 'NP', 'Sweden is a Scandinavian country': 'NP', 'Hyperloop One is a company': 'NP', 'Wired': 'MISC', 'Donald Trump': 'MISC', 'Martin': 'MISC', 'Miami is a seaport city': 'NP', 'Oculus Rift is a virtual reality': 'NP', 'Avatars is a concept': 'NP', 'Polynesian': 'MISC', 'EI': 'MISC', 'Grisak': 'MISC', 'FCC': 'MISC', 'Instagram is a mobile photo-sharing application': 'NP', 'Swedish': 'MISC', 'Google Home is a smart speaker': 'NP', 'Poop Troop Emoji Keyboard': 'MISC', 'Alcatel Flash has 5-megapixel camera': 'NP', 'Blake is a surname': 'NP', 'SpaceX is an American aerospace': 'NP', 'Joe Quirk is an American author': 'NP', 'Ars Technica': 'MISC', 'Schiller': 'MISC', 'iPhone is a line': 'NP', 'Apple is a deciduous tree': 'NP', 'Skills Plan is a law': 'NP', 'Las Vegas is the 28th-most populated city': 'NP', 'CPU is the electronic circuitry': 'NP', 'New York Times is an American daily newspaper': 'NP', 'Marine Corps': 'MISC', 'Rewind': 'MISC', 'Xbox is a video': 'NP', 'Myriad': 'MISC', 'CEO describes the position': 'NP', 'Hyperloop One Global is a company': 'NP', 'Mac': 'MISC', 'German': 'MISC', 'Chevrolet is an American automobile': 'NP', 'Vive': 'MISC', 'Stephanie Alys': 'MISC', 'Galaxy S8': 'MISC', 'Gear': 'MISC', 'Bryony Cole': 'MISC', 'Einride': 'MISC', 'Gimmy Chu': 'MISC', 'Huawei is a Chinese multinational networking': 'NP', 'Korean': 'MISC', 'Apple Music is a music-streaming service': 'NP', 'Amid': 'MISC', 'BaDoink': 'MISC', 'Amazon': 'MISC', 'Clyde Mandellin': 'MISC', 'Solar Pool Technologies is a large scale': 'NP', 'Poor': 'MISC', 'Randolph Hencken': 'MISC', 'HoloLens is a pair': 'NP', 'CNN is an American basic': 'NP', 'Wii U Virtual Console is a specialized section': 'NP', 'LG is a South Korean multinational conglomerate': 'NP', 'Nations Will': 'MISC', 'Silicon Valley is a nickname': 'NP', 'NVIDIA is an American technology': 'NP', 'Wyoming is a state': 'NP', 'Korea is a historical state': 'NP', 'French': 'MISC', 'Embark is the public transit': 'NP', 'Massachusetts': 'MISC', 'Mac Pro is a series': 'NP', 'Center': 'MISC', 'Gaana is a type': 'NP', 'Cheyenne': 'MISC', 'Microsoft is an American multinational': 'NP', 'NES Classic Edition is a miniature': 'NP', 'Soon': 'MISC', 'Adam Thurlow': 'MISC', 'Xiaomi': 'MISC', 'Snapdragon is a genus': 'NP', 'Bolt EV is an all-electric subcompact': 'NP', 'Oppo': 'MISC', 'Wynk Music is a subsidiary': 'NP', 'Which': 'MISC', 'Tesla': 'MISC', 'PlayStation is a gaming': 'NP', 'Flash': 'MISC', 'End Domestic Violence': 'MISC', 'Ashley Blake is a British former television': 'NP', 'RFID uses electromagnetic fields': 'NP', 'Saavn is an American digital distributor': 'NP', 'Vivo': 'MISC', 'Porn is a location': 'NP', 'Prisoner is a person': 'NP', 'Revenge Porn Helpline': 'MISC', 'CTO': 'MISC', 'Facebook is an American for-profit corporation': 'NP', 'Antigone Davis is a tragedy': 'NP', 'HTC Vive is a high-end virtual reality': 'NP', 'Microchip Pet Door Connect is a fictional character': 'NP', 'Employment Insurance': 'MISC', 'GIFs is a bitmap image': 'NP', 'Legend possesses certain qualities': 'NP', 'William Shatner is a Canadian actor': 'NP', 'Zelda': 'MISC', 'Hyperloop Technologies is a company': 'NP', 'MonoLens is a genus': 'NP', 'RAM': 'MISC', 'PACCAR has substantial manufacturing': 'NP', 'UK is a sovereign country': 'NP', 'Elon Musk is a South African-born Canadian-American business': 'NP', 'United States is a constitutional federal republic': 'NP', 'Android Headlines is a List': 'NP', 'Paul Sim is the fourth major title': 'NP', 'Westworld is an American science': 'NP', 'Houston': 'MISC', 'Indians': 'MISC', 'John Nay': 'MISC', 'Musk is a class': 'NP', 'Janet Lieberman is a former professional': 'NP', 'Portland': 'MISC', 'Mac Mini is a small desktop': 'NP', 'South Korea is a sovereign state': 'NP', 'Texas': 'MISC', 'Seasteading Institute is the concept': 'NP', 'Garadget': 'MISC', 'Joe Biden is an American politician': 'NP', 'Mindshare is a global media': 'NP', 'Alexandra Fine': 'MISC', 'U.S. is a constitutional federal republic': 'NP', 'Ford is an American multinational': 'NP', 'Robo Recall is a first-person shooter': 'NP'}\n"
     ]
    }
   ],
   "source": [
    "cl_orig=entities_classif(entities_orig)\n",
    "print(cl_orig)"
   ]
  },
  {
   "cell_type": "code",
   "execution_count": 175,
   "metadata": {
    "collapsed": true
   },
   "outputs": [],
   "source": [
    "pickle.dump(cl_orig, open( \"orig.p\", \"wb\" ) )\n",
    "pickle.dump(cl_c, open( \"clc.p\", \"wb\" ) )"
   ]
  },
  {
   "cell_type": "code",
   "execution_count": null,
   "metadata": {
    "collapsed": true
   },
   "outputs": [],
   "source": [
    "clorig=pickle.load( open( \"orig.p\", \"rb\" ) )\n",
    "clc=pickle.load( open( \"clc.p\", \"rb\" ) )"
   ]
  }
 ],
 "metadata": {
  "anaconda-cloud": {},
  "kernelspec": {
   "display_name": "Python [default]",
   "language": "python",
   "name": "python3"
  },
  "language_info": {
   "codemirror_mode": {
    "name": "ipython",
    "version": 3
   },
   "file_extension": ".py",
   "mimetype": "text/x-python",
   "name": "python",
   "nbconvert_exporter": "python",
   "pygments_lexer": "ipython3",
   "version": "3.5.2"
  }
 },
 "nbformat": 4,
 "nbformat_minor": 1
}
