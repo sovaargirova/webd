{
 "cells": [
  {
   "cell_type": "code",
   "execution_count": 194,
   "metadata": {
    "collapsed": false
   },
   "outputs": [],
   "source": [
    "import pandas as pd\n",
    "import numpy as np\n",
    "import networkx as nx\n",
    "import matplotlib.pyplot as plt\n",
    "import itertools\n",
    "import operator\n",
    "import random\n",
    "import pickle"
   ]
  },
  {
   "cell_type": "code",
   "execution_count": 187,
   "metadata": {
    "collapsed": false
   },
   "outputs": [
    {
     "name": "stdout",
     "output_type": "stream",
     "text": [
      "46233\n"
     ]
    },
    {
     "data": {
      "text/html": [
       "<div>\n",
       "<table border=\"1\" class=\"dataframe\">\n",
       "  <thead>\n",
       "    <tr style=\"text-align: right;\">\n",
       "      <th></th>\n",
       "      <th>movie</th>\n",
       "      <th>actor</th>\n",
       "    </tr>\n",
       "  </thead>\n",
       "  <tbody>\n",
       "    <tr>\n",
       "      <th>0</th>\n",
       "      <td>Pygmalion</td>\n",
       "      <td>Leslie Howard</td>\n",
       "    </tr>\n",
       "    <tr>\n",
       "      <th>1</th>\n",
       "      <td>Pygmalion</td>\n",
       "      <td>Wendy Hiller</td>\n",
       "    </tr>\n",
       "    <tr>\n",
       "      <th>2</th>\n",
       "      <td>Pygmalion</td>\n",
       "      <td>Wilfrid Lawson</td>\n",
       "    </tr>\n",
       "    <tr>\n",
       "      <th>3</th>\n",
       "      <td>Pygmalion</td>\n",
       "      <td>Scott Sunderland</td>\n",
       "    </tr>\n",
       "    <tr>\n",
       "      <th>4</th>\n",
       "      <td>Pygmalion</td>\n",
       "      <td>Marie Lohr</td>\n",
       "    </tr>\n",
       "  </tbody>\n",
       "</table>\n",
       "</div>"
      ],
      "text/plain": [
       "       movie             actor\n",
       "0  Pygmalion     Leslie Howard\n",
       "1  Pygmalion      Wendy Hiller\n",
       "2  Pygmalion    Wilfrid Lawson\n",
       "3  Pygmalion  Scott Sunderland\n",
       "4  Pygmalion        Marie Lohr"
      ]
     },
     "execution_count": 187,
     "metadata": {},
     "output_type": "execute_result"
    }
   ],
   "source": [
    "#reading data\n",
    "\n",
    "data = pd.read_csv('casts.csv', sep=None, delimiter=None, header=None,  index_col=None, engine='python')\n",
    "\n",
    "data = data.drop([0, 3,4], 1)\n",
    "\n",
    "data.rename(columns={1:'movie', 2:'actor'}, inplace=True)\n",
    "\n",
    "print(len(data))\n",
    "\n",
    "data.dropna(inplace=True)\n",
    "data.head()"
   ]
  },
  {
   "cell_type": "code",
   "execution_count": 85,
   "metadata": {
    "collapsed": true
   },
   "outputs": [],
   "source": [
    "#lists\n",
    "\n",
    "actors=list(data.actor.unique())\n",
    "\n",
    "movies=list(data.movie.unique())\n",
    "\n",
    "actors.remove('s a')\n",
    "\n",
    "actors.remove('s a<')"
   ]
  },
  {
   "cell_type": "code",
   "execution_count": 87,
   "metadata": {
    "collapsed": true
   },
   "outputs": [],
   "source": [
    "#adding nodes\n",
    "\n",
    "for a in actors:\n",
    "    G.add_node(a)"
   ]
  },
  {
   "cell_type": "code",
   "execution_count": 88,
   "metadata": {
    "collapsed": false
   },
   "outputs": [],
   "source": [
    "#adding edges\n",
    "\n",
    "for m in movies:\n",
    "    a=[]\n",
    "    a=list(data.loc[data['movie']==m]['actor'])\n",
    "    comb=itertools.combinations(a, 2)\n",
    "    for c in comb:\n",
    "        G.add_edges_from([c])"
   ]
  },
  {
   "cell_type": "code",
   "execution_count": 89,
   "metadata": {
    "collapsed": false
   },
   "outputs": [
    {
     "name": "stdout",
     "output_type": "stream",
     "text": [
      "16612\n",
      "155956\n"
     ]
    }
   ],
   "source": [
    "#num nodes, num edges\n",
    "\n",
    "print(len(G.nodes()))\n",
    "print(len(G.edges()))"
   ]
  },
  {
   "cell_type": "code",
   "execution_count": 90,
   "metadata": {
    "collapsed": false
   },
   "outputs": [
    {
     "data": {
      "text/plain": [
       "<networkx.classes.graph.Graph at 0x1d21722a860>"
      ]
     },
     "execution_count": 90,
     "metadata": {},
     "output_type": "execute_result"
    }
   ],
   "source": [
    "G.to_undirected()"
   ]
  },
  {
   "cell_type": "code",
   "execution_count": 91,
   "metadata": {
    "collapsed": false
   },
   "outputs": [
    {
     "name": "stdout",
     "output_type": "stream",
     "text": [
      "0.0011303537586306383\n"
     ]
    }
   ],
   "source": [
    "#density\n",
    "\n",
    "D=2*len(G.edges())/(len(G.nodes())*(len(G.nodes())-1))\n",
    "print(D)"
   ]
  },
  {
   "cell_type": "code",
   "execution_count": 197,
   "metadata": {
    "collapsed": false
   },
   "outputs": [
    {
     "data": {
      "text/plain": [
       "638"
      ]
     },
     "execution_count": 197,
     "metadata": {},
     "output_type": "execute_result"
    }
   ],
   "source": [
    "#num of connected components\n",
    "\n",
    "cc=list(nx.connected_components(G))\n",
    "len(cc)"
   ]
  },
  {
   "cell_type": "code",
   "execution_count": 97,
   "metadata": {
    "collapsed": true
   },
   "outputs": [],
   "source": [
    "#centralities\n",
    "\n",
    "centralities=[]\n",
    "centralities.append(nx.degree_centrality(G)) \n",
    "                \n",
    "#centralities = [nx.degree_centrality(G), nx.closeness_centrality(G),\n",
    "# nx.betweenness_centrality(G), nx.eigenvector_centrality(G)]\n",
    "\n",
    "centralities.append(nx.closeness_centrality(G))\n",
    "\n",
    "centralities.append(nx.betweenness_centrality(G))"
   ]
  },
  {
   "cell_type": "code",
   "execution_count": 99,
   "metadata": {
    "collapsed": true
   },
   "outputs": [],
   "source": [
    "pickle.dump(centralities, open( \"cent.p\", \"wb\" ) )"
   ]
  },
  {
   "cell_type": "code",
   "execution_count": 100,
   "metadata": {
    "collapsed": false
   },
   "outputs": [
    {
     "name": "stdout",
     "output_type": "stream",
     "text": [
      "[('John Carradine', 0.022093793269520195), ('John Gielgud', 0.022274396484257417), ('Gary Cooper', 0.022274396484257417), ('James Stewart', 0.022515200770573715), ('Humphrey Bogart', 0.025886460779001867)]\n",
      "[('Henry Fonda', 0.3657625304979758), ('Burt Lancaster', 0.3664207124748073), ('John Carradine', 0.3665880908097189), ('John Gielgud', 0.3669233066423135), ('Charlton Heston', 0.36836975881775835)]\n",
      "[('Burt Lancaster', 0.006560412804489521), ('Jack Nicholson', 0.006674886024668864), ('John Carradine', 0.007040082232818531), ('Vincent Price', 0.007789538837495188), ('Humphrey Bogart', 0.008275678664201517)]\n"
     ]
    }
   ],
   "source": [
    "#key-players\n",
    "\n",
    "x=[]\n",
    "for i in range(0, len(centralities)):\n",
    "    sorted_x = sorted(centralities[i].items(), key=operator.itemgetter(1))\n",
    "    sorted_x=sorted_x[-6:-1]\n",
    "    x.append(sorted_x)\n",
    "    print(sorted_x)"
   ]
  },
  {
   "cell_type": "code",
   "execution_count": 203,
   "metadata": {
    "collapsed": false
   },
   "outputs": [
    {
     "name": "stdout",
     "output_type": "stream",
     "text": [
      "16612\n"
     ]
    }
   ],
   "source": [
    "communities = nx.clustering(G)\n",
    "print(len(communities))"
   ]
  },
  {
   "cell_type": "code",
   "execution_count": 201,
   "metadata": {
    "collapsed": true
   },
   "outputs": [],
   "source": [
    "#saving attr\n",
    "\n",
    "nx.set_node_attributes(G, 'deg_cent', centralities[0])\n",
    "\n",
    "\n",
    "nx.set_node_attributes(G, 'clos_cent', centralities[1])\n",
    "nx.set_node_attributes(G, 'bet_cent', centralities[2])\n",
    "\n",
    "nx.set_node_attributes(G, 'kb-num', kb)\n",
    "\n",
    "nx.set_node_attributes(G, 'clust_coeff', communities)"
   ]
  },
  {
   "cell_type": "code",
   "execution_count": 202,
   "metadata": {
    "collapsed": false
   },
   "outputs": [],
   "source": [
    "#saving the graph\n",
    "\n",
    "nx.write_gexf(G, \"cast.gexf\")"
   ]
  },
  {
   "cell_type": "code",
   "execution_count": 128,
   "metadata": {
    "collapsed": false
   },
   "outputs": [],
   "source": [
    "#kevin bacon number\n",
    "\n",
    "kb={}\n",
    "for i in range(0, 500):\n",
    "    a= random.choice(actors)\n",
    "    if nx.has_path(G, 'Kevin Bacon', a):\n",
    "        kb[a]=nx.shortest_path_length(G, 'Kevin Bacon', a, 1)\n",
    "        \n",
    "sorted_kb = sorted(kb.items(), key=operator.itemgetter(1))\n"
   ]
  },
  {
   "cell_type": "code",
   "execution_count": 129,
   "metadata": {
    "collapsed": false
   },
   "outputs": [
    {
     "name": "stdout",
     "output_type": "stream",
     "text": [
      "[('J.A. Preston', 1), ('Tommy Lee Jones', 1), ('Deborah Thompson', 1), ('Cathy Moriarty', 1), ('John C. Relly', 1)]\n",
      "[('Alfons Haider', 5), ('Ula Holt', 5), ('Brandy', 5), ('Grant Cramer', 5), ('Kaethe vonNagy', 5)]\n"
     ]
    }
   ],
   "source": [
    "#least kb number, biggest number\n",
    "\n",
    "print(sorted_kb[:5])\n",
    "print(sorted_kb[-6:-1])\n"
   ]
  },
  {
   "cell_type": "code",
   "execution_count": 130,
   "metadata": {
    "collapsed": false
   },
   "outputs": [
    {
     "name": "stdout",
     "output_type": "stream",
     "text": [
      "2.7963800904977374\n"
     ]
    }
   ],
   "source": [
    "# average kb\n",
    "\n",
    "sums=0\n",
    "for i in range(0, len(sorted_kb)):\n",
    "    sums+=sorted_kb[i][1]\n",
    "print(float(sums)/len(sorted_kb))"
   ]
  },
  {
   "cell_type": "code",
   "execution_count": 171,
   "metadata": {
    "collapsed": false
   },
   "outputs": [
    {
     "data": {
      "text/plain": [
       "<networkx.classes.graph.Graph at 0x1d2174c7f98>"
      ]
     },
     "execution_count": 171,
     "metadata": {},
     "output_type": "execute_result"
    }
   ],
   "source": [
    "#visualization of randomly chosen 7 movie actors\n",
    "\n",
    "G1=nx.Graph()\n",
    "\n",
    "for i in range(0, 7):\n",
    "    m = random.choice(movies)\n",
    "    a=list(data.loc[data['movie']==m]['actor'])\n",
    "    for aa in a:\n",
    "        if aa not in G1.nodes():\n",
    "            G1.add_node(aa)\n",
    "    comb=itertools.combinations(a, 2)\n",
    "    for c in comb:\n",
    "        G1.add_edges_from([c])\n",
    "\n",
    "G1.to_undirected()\n",
    "\n"
   ]
  },
  {
   "cell_type": "code",
   "execution_count": 178,
   "metadata": {
    "collapsed": false
   },
   "outputs": [
    {
     "data": {
      "image/png": "[encoded data removed]",
      "text/plain": [
       "<matplotlib.figure.Figure at 0x1d21674c588>"
      ]
     },
     "metadata": {},
     "output_type": "display_data"
    }
   ],
   "source": [
    "nx.draw_networkx(G1, pos=nx.spring_layout(G1, k=1, scale=3), node_size=20, font_size=8)\n",
    "plt.axis('off')\n",
    "plt.show()"
   ]
  },
  {
   "cell_type": "code",
   "execution_count": null,
   "metadata": {
    "collapsed": true
   },
   "outputs": [],
   "source": []
  }
 ],
 "metadata": {
  "kernelspec": {
   "display_name": "Python [default]",
   "language": "python",
   "name": "python3"
  },
  "language_info": {
   "codemirror_mode": {
    "name": "ipython",
    "version": 3
   },
   "file_extension": ".py",
   "mimetype": "text/x-python",
   "name": "python",
   "nbconvert_exporter": "python",
   "pygments_lexer": "ipython3",
   "version": "3.5.2"
  }
 },
 "nbformat": 4,
 "nbformat_minor": 1
}
